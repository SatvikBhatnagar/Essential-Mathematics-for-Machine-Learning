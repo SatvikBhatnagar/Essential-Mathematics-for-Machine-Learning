{
 "cells": [
  {
   "cell_type": "code",
   "execution_count": 1,
   "id": "babd79eb",
   "metadata": {},
   "outputs": [],
   "source": [
    "import numpy as np # for array related computations"
   ]
  },
  {
   "cell_type": "markdown",
   "id": "4ee5b9f1",
   "metadata": {},
   "source": [
    "Defining vectors"
   ]
  },
  {
   "cell_type": "code",
   "execution_count": 2,
   "id": "0fa79dfa",
   "metadata": {},
   "outputs": [],
   "source": [
    "v = np.array([1,-1,2])\n",
    "w = np.array([2,5,2])"
   ]
  },
  {
   "cell_type": "markdown",
   "id": "d423109e",
   "metadata": {},
   "source": [
    "Vector Addition"
   ]
  },
  {
   "cell_type": "code",
   "execution_count": 3,
   "id": "a3c70316",
   "metadata": {},
   "outputs": [
    {
     "name": "stdout",
     "output_type": "stream",
     "text": [
      "[3 4 4]\n"
     ]
    }
   ],
   "source": [
    "print(v+w)"
   ]
  },
  {
   "cell_type": "code",
   "execution_count": 4,
   "id": "666acda3",
   "metadata": {},
   "outputs": [
    {
     "name": "stdout",
     "output_type": "stream",
     "text": [
      "[-1 -6  0]\n"
     ]
    }
   ],
   "source": [
    "print(v-w)"
   ]
  },
  {
   "cell_type": "markdown",
   "id": "0c1dee49",
   "metadata": {},
   "source": [
    "Scalar Multiplication"
   ]
  },
  {
   "cell_type": "code",
   "execution_count": 5,
   "id": "2d385029",
   "metadata": {},
   "outputs": [
    {
     "name": "stdout",
     "output_type": "stream",
     "text": [
      "[ 3 -3  6]\n"
     ]
    }
   ],
   "source": [
    "print(3*v)"
   ]
  },
  {
   "cell_type": "markdown",
   "id": "30aee666",
   "metadata": {},
   "source": [
    "Length of a Vector"
   ]
  },
  {
   "cell_type": "code",
   "execution_count": 6,
   "id": "6cfd2ec7",
   "metadata": {},
   "outputs": [
    {
     "name": "stdout",
     "output_type": "stream",
     "text": [
      "2.449489742783178\n"
     ]
    }
   ],
   "source": [
    "print(np.linalg.norm(v)) #linalg - linear algebra module, norm - length of the vector"
   ]
  },
  {
   "cell_type": "markdown",
   "id": "339f9789",
   "metadata": {},
   "source": [
    "Dot product"
   ]
  },
  {
   "cell_type": "code",
   "execution_count": 7,
   "id": "cfb8f669",
   "metadata": {},
   "outputs": [
    {
     "name": "stdout",
     "output_type": "stream",
     "text": [
      "1\n"
     ]
    }
   ],
   "source": [
    "s = np.dot(v,w)\n",
    "print(s)"
   ]
  },
  {
   "cell_type": "code",
   "execution_count": null,
   "id": "fc8af5e2",
   "metadata": {},
   "outputs": [],
   "source": []
  }
 ],
 "metadata": {
  "kernelspec": {
   "display_name": "Python 3 (ipykernel)",
   "language": "python",
   "name": "python3"
  },
  "language_info": {
   "codemirror_mode": {
    "name": "ipython",
    "version": 3
   },
   "file_extension": ".py",
   "mimetype": "text/x-python",
   "name": "python",
   "nbconvert_exporter": "python",
   "pygments_lexer": "ipython3",
   "version": "3.11.4"
  }
 },
 "nbformat": 4,
 "nbformat_minor": 5
}
